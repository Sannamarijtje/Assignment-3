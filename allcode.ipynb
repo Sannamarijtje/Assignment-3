{
 "cells": [
  {
   "cell_type": "markdown",
   "id": "8516b225",
   "metadata": {},
   "source": [
    "# Week 10: Data exploration & Replication of baseline method"
   ]
  },
  {
   "cell_type": "code",
   "execution_count": null,
   "id": "d86664e4",
   "metadata": {},
   "outputs": [],
   "source": [
    "# Import necessary packages\n",
    "import numpy\n",
    "import pandas\n",
    "import matplotlib.pyplot as plt\n",
    "import sklearn\n",
    "import nltk"
   ]
  },
  {
   "cell_type": "code",
   "execution_count": null,
   "id": "032a786c",
   "metadata": {},
   "outputs": [],
   "source": [
    "# Read in the data\n",
    "df_attributes = pandas.read_csv('DATA/attributes.csv')\n",
    "df_products = pandas.read_csv('DATA/product_descriptions.csv')\n",
    "df_train = pandas.read_csv('DATA/train.csv', encoding='latin1')\n",
    "df_test = pandas.read_csv('DATA/test.csv', encoding='latin1')"
   ]
  },
  {
   "cell_type": "code",
   "execution_count": null,
   "id": "a8447533",
   "metadata": {},
   "outputs": [
    {
     "ename": "",
     "evalue": "",
     "output_type": "error",
     "traceback": [
      "\u001b[1;31mRunning cells with 'DS3 (Python 3.13.2)' requires the ipykernel package.\n",
      "\u001b[1;31m<a href='command:jupyter.createPythonEnvAndSelectController'>Create a Python Environment</a> with the required packages.\n",
      "\u001b[1;31mOr install 'ipykernel' using the command: 'conda install -n DS3 ipykernel --update-deps --force-reinstall'"
     ]
    }
   ],
   "source": [
    "# Data exploration\n",
    "print(df_train.info())\n",
    "print(df_train.shape)\n",
    "print(len(df_train['product_title'].unique()))\n",
    "print(df_train['product_title'].value_counts().head(10))\n",
    "print(df_train['relevance'].mean(), df_train['relevance'].median(), df_train['relevance'].std())"
   ]
  },
  {
   "cell_type": "code",
   "execution_count": null,
   "id": "3ce2141b",
   "metadata": {},
   "outputs": [],
   "source": [
    "# Make a histogram of the relevance values\n",
    "plt.hist(df_train['relevance'], bins=50, color='blue', alpha=0.7)\n",
    "plt.title('Histogram of Relevance Values')\n",
    "plt.xlabel('Relevance')\n",
    "plt.ylabel('Frequency')\n",
    "plt.show()"
   ]
  },
  {
   "cell_type": "code",
   "execution_count": null,
   "id": "9d941182",
   "metadata": {},
   "outputs": [],
   "source": [
    "# Find the brand names\n",
    "print(df_attributes['product_uid'].value_counts().head(5))\n",
    "filtered_df = df_attributes[df_attributes[\"name\"].str.contains('Brand Name', na=False)]\n",
    "print(filtered_df[\"value\"].unique())\n",
    "print(filtered_df[\"value\"].value_counts().head(10))"
   ]
  },
  {
   "cell_type": "code",
   "execution_count": null,
   "id": "42d8c3c5",
   "metadata": {},
   "outputs": [],
   "source": [
    "# Baseline model from Yao-Jen Chang\n",
    "import numpy as np\n",
    "import pandas as pd\n",
    "from sklearn.ensemble import RandomForestRegressor, BaggingRegressor\n",
    "from nltk.stem.snowball import SnowballStemmer\n",
    "\n",
    "stemmer = SnowballStemmer('english')\n",
    "\n",
    "df_train = pd.read_csv('DATA/train.csv', encoding=\"ISO-8859-1\")\n",
    "df_test = pd.read_csv('DATA/test.csv', encoding=\"ISO-8859-1\")\n",
    "# df_attr = pd.read_csv('DATA/attributes.csv')\n",
    "df_pro_desc = pd.read_csv('DATA/product_descriptions.csv')\n",
    "\n",
    "num_train = df_train.shape[0]\n",
    "\n",
    "def str_stemmer(s):\n",
    "\treturn \" \".join([stemmer.stem(word) for word in s.lower().split()])\n",
    "\n",
    "def str_common_word(str1, str2):\n",
    "\treturn sum(int(str2.find(word)>=0) for word in str1.split())\n",
    "\n",
    "\n",
    "df_all = pd.concat((df_train, df_test), axis=0, ignore_index=True)\n",
    "\n",
    "df_all = pd.merge(df_all, df_pro_desc, how='left', on='product_uid')\n",
    "\n",
    "df_all['search_term'] = df_all['search_term'].map(lambda x:str_stemmer(x))\n",
    "df_all['product_title'] = df_all['product_title'].map(lambda x:str_stemmer(x))\n",
    "df_all['product_description'] = df_all['product_description'].map(lambda x:str_stemmer(x))\n",
    "\n",
    "df_all['len_of_query'] = df_all['search_term'].map(lambda x:len(x.split())).astype(np.int64)\n",
    "\n",
    "df_all['product_info'] = df_all['search_term']+\"\\t\"+df_all['product_title']+\"\\t\"+df_all['product_description']\n",
    "\n",
    "df_all['word_in_title'] = df_all['product_info'].map(lambda x:str_common_word(x.split('\\t')[0],x.split('\\t')[1]))\n",
    "df_all['word_in_description'] = df_all['product_info'].map(lambda x:str_common_word(x.split('\\t')[0],x.split('\\t')[2]))\n",
    "\n",
    "df_all = df_all.drop(['search_term','product_title','product_description','product_info'],axis=1)\n",
    "\n",
    "df_train = df_all.iloc[:num_train]\n",
    "df_test = df_all.iloc[num_train:]\n",
    "id_test = df_test['id']\n",
    "\n",
    "y_train = df_train['relevance'].values\n",
    "X_train = df_train.drop(['id','relevance'],axis=1).values\n",
    "X_test = df_test.drop(['id','relevance'],axis=1).values\n",
    "\n",
    "rf = RandomForestRegressor(n_estimators=15, max_depth=6, random_state=0)\n",
    "clf = BaggingRegressor(rf, n_estimators=45, max_samples=0.1, random_state=25)\n",
    "clf.fit(X_train, y_train)\n",
    "y_pred = clf.predict(X_test)\n",
    "\n",
    "pd.DataFrame({\"id\": id_test, \"relevance\": y_pred}).to_csv('submission.csv',index=False)"
   ]
  }
 ],
 "metadata": {
  "kernelspec": {
   "display_name": "DS3",
   "language": "python",
   "name": "python3"
  },
  "language_info": {
   "name": "python",
   "version": "3.13.2"
  }
 },
 "nbformat": 4,
 "nbformat_minor": 5
}
