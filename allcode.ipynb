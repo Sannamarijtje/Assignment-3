{
 "cells": [
  {
   "cell_type": "markdown",
   "id": "8516b225",
   "metadata": {},
   "source": [
    "# Week 10: Data exploration & Replication of baseline method"
   ]
  },
  {
   "cell_type": "code",
   "execution_count": 4,
   "id": "d86664e4",
   "metadata": {},
   "outputs": [],
   "source": [
    "# Import necessary packages\n",
    "import numpy\n",
    "import pandas\n",
    "import matplotlib.pyplot as plt\n",
    "import sklearn\n",
    "import nltk"
   ]
  },
  {
   "cell_type": "code",
   "execution_count": 5,
   "id": "032a786c",
   "metadata": {},
   "outputs": [],
   "source": [
    "# Read in the data\n",
    "df_attributes = pandas.read_csv('DATA/attributes.csv')\n",
    "df_products = pandas.read_csv('DATA/product_descriptions.csv')\n",
    "df_train = pandas.read_csv('DATA/train.csv', encoding='latin1')\n",
    "df_test = pandas.read_csv('DATA/test.csv', encoding='latin1')"
   ]
  },
  {
   "cell_type": "code",
   "execution_count": 6,
   "id": "a8447533",
   "metadata": {},
   "outputs": [
    {
     "name": "stdout",
     "output_type": "stream",
     "text": [
      "<class 'pandas.core.frame.DataFrame'>\n",
      "RangeIndex: 74067 entries, 0 to 74066\n",
      "Data columns (total 5 columns):\n",
      " #   Column         Non-Null Count  Dtype  \n",
      "---  ------         --------------  -----  \n",
      " 0   id             74067 non-null  int64  \n",
      " 1   product_uid    74067 non-null  int64  \n",
      " 2   product_title  74067 non-null  object \n",
      " 3   search_term    74067 non-null  object \n",
      " 4   relevance      74067 non-null  float64\n",
      "dtypes: float64(1), int64(2), object(2)\n",
      "memory usage: 2.8+ MB\n",
      "None\n",
      "(74067, 5)\n",
      "53489\n",
      "product_title\n",
      "Lithonia Lighting All Season 4 ft. 2-Light Grey T8 Strip Fluorescent Shop Light                                          21\n",
      "Pressure-Treated Timber #2 Southern Yellow Pine (Common: 4 in. x 4 in. x 8 ft.; Actual: 3.56 in. x 3.56 in. x 96 in.)    21\n",
      "2 in. x 4 in. x 96 in. Premium Kiln-Dried Whitewood Stud                                                                 18\n",
      "Ryobi ONE+ 18-Volt Lithium-Ion Ultimate Combo Kit (6-Tool)                                                               17\n",
      "Custom Building Products VersaBond Gray 50 lb. Fortified Thin-Set Mortar                                                 17\n",
      "Ryobi ONE+ 18-Volt Lithium-Ion Cordless Drill/Driver and Impact Driver Kit (2-Tool)                                      17\n",
      "Whirlpool Gold Series Top Control Dishwasher in Monochromatic Stainless Steel with Silverware Spray                      15\n",
      "Whirlpool 1.7 cu. ft. Over the Range Microwave in Stainless Steel                                                        14\n",
      "WeatherShield 2 in. x 4 in. x 8 ft. #2 Prime Prime Pressure-Treated Lumber                                               14\n",
      "23/32 in. x 4 ft. x 8 ft. RTD Sheathing Syp                                                                              14\n",
      "Name: count, dtype: int64\n",
      "2.3816337910270433 2.33 0.5339839484172094\n"
     ]
    }
   ],
   "source": [
    "# Data exploration\n",
    "print(df_train.info())\n",
    "print(df_train.shape)\n",
    "print(len(df_train['product_title'].unique()))\n",
    "print(df_train['product_title'].value_counts().head(10))\n",
    "print(df_train['relevance'].mean(), df_train['relevance'].median(), df_train['relevance'].std())"
   ]
  },
  {
   "cell_type": "code",
   "execution_count": 7,
   "id": "3ce2141b",
   "metadata": {},
   "outputs": [
    {
     "data": {
      "image/png": "[encoded data removed]",
      "text/plain": [
       "<Figure size 640x480 with 1 Axes>"
      ]
     },
     "metadata": {},
     "output_type": "display_data"
    }
   ],
   "source": [
    "# Make a histogram of the relevance values\n",
    "plt.hist(df_train['relevance'], bins=50, color='blue', alpha=0.7)\n",
    "plt.title('Histogram of Relevance Values')\n",
    "plt.xlabel('Relevance')\n",
    "plt.ylabel('Frequency')\n",
    "plt.show()"
   ]
  },
  {
   "cell_type": "code",
   "execution_count": 8,
   "id": "9d941182",
   "metadata": {},
   "outputs": [
    {
     "name": "stdout",
     "output_type": "stream",
     "text": [
      "product_uid\n",
      "195932.0    88\n",
      "100532.0    80\n",
      "119037.0    79\n",
      "186482.0    79\n",
      "144095.0    78\n",
      "Name: count, dtype: int64\n",
      "['Simpson Strong-Tie' 'BEHR Premium Textured DeckOver' 'STERLING' ...\n",
      " 'Woolite' \"Durham's Rock Hard\" 'Variflex']\n",
      "value\n",
      "Unbranded                     2954\n",
      "Hampton Bay                   1723\n",
      "KOHLER                        1389\n",
      "Everbilt                      1381\n",
      "Home Decorators Collection    1275\n",
      "GE                             987\n",
      "Prime-Line                     931\n",
      "Crown Bolt                     878\n",
      "Delta                          853\n",
      "DEWALT                         675\n",
      "Name: count, dtype: int64\n"
     ]
    }
   ],
   "source": [
    "# Find the brand names\n",
    "print(df_attributes['product_uid'].value_counts().head(5))\n",
    "filtered_df = df_attributes[df_attributes[\"name\"].str.contains('Brand Name', na=False)]\n",
    "print(filtered_df[\"value\"].unique())\n",
    "print(filtered_df[\"value\"].value_counts().head(10))"
   ]
  },
  {
   "cell_type": "code",
   "execution_count": 11,
   "id": "42d8c3c5",
   "metadata": {},
   "outputs": [
    {
     "name": "stdout",
     "output_type": "stream",
     "text": [
      "   id  product_uid  relevance  len_of_query  word_in_title  \\\n",
      "0   2       100001       3.00             2              1   \n",
      "1   3       100001       2.50             2              1   \n",
      "2   9       100002       3.00             2              1   \n",
      "3  16       100005       2.33             3              1   \n",
      "4  17       100005       2.67             3              3   \n",
      "\n",
      "   word_in_description  \n",
      "0                    1  \n",
      "1                    1  \n",
      "2                    1  \n",
      "3                    1  \n",
      "4                    2  \n",
      "       id  product_uid  relevance  len_of_query  word_in_title  \\\n",
      "74067   1       100001        NaN             3              0   \n",
      "74068   4       100001        NaN             3              1   \n",
      "74069   5       100001        NaN             3              1   \n",
      "74070   6       100001        NaN             3              2   \n",
      "74071   7       100001        NaN             4              2   \n",
      "\n",
      "       word_in_description  \n",
      "74067                    1  \n",
      "74068                    1  \n",
      "74069                    1  \n",
      "74070                    2  \n",
      "74071                    2  \n"
     ]
    }
   ],
   "source": [
    "# Baseline model from Yao-Jen Chang\n",
    "import numpy as np\n",
    "import pandas as pd\n",
    "from sklearn.ensemble import RandomForestRegressor, BaggingRegressor\n",
    "from nltk.stem.snowball import SnowballStemmer\n",
    "\n",
    "stemmer = SnowballStemmer('english')\n",
    "\n",
    "df_train = pd.read_csv('DATA/train.csv', encoding=\"ISO-8859-1\")\n",
    "df_test = pd.read_csv('DATA/test.csv', encoding=\"ISO-8859-1\")\n",
    "# df_attr = pd.read_csv('DATA/attributes.csv')\n",
    "df_pro_desc = pd.read_csv('DATA/product_descriptions.csv')\n",
    "\n",
    "num_train = df_train.shape[0]\n",
    "\n",
    "def str_stemmer(s):\n",
    "\treturn \" \".join([stemmer.stem(word) for word in s.lower().split()])\n",
    "\n",
    "def str_common_word(str1, str2):\n",
    "\treturn sum(int(str2.find(word)>=0) for word in str1.split())\n",
    "\n",
    "\n",
    "df_all = pd.concat((df_train, df_test), axis=0, ignore_index=True)\n",
    "\n",
    "df_all = pd.merge(df_all, df_pro_desc, how='left', on='product_uid')\n",
    "\n",
    "df_all['search_term'] = df_all['search_term'].map(lambda x:str_stemmer(x))\n",
    "df_all['product_title'] = df_all['product_title'].map(lambda x:str_stemmer(x))\n",
    "df_all['product_description'] = df_all['product_description'].map(lambda x:str_stemmer(x))\n",
    "\n",
    "df_all['len_of_query'] = df_all['search_term'].map(lambda x:len(x.split())).astype(np.int64)\n",
    "\n",
    "df_all['product_info'] = df_all['search_term']+\"\\t\"+df_all['product_title']+\"\\t\"+df_all['product_description']\n",
    "\n",
    "df_all['word_in_title'] = df_all['product_info'].map(lambda x:str_common_word(x.split('\\t')[0],x.split('\\t')[1]))\n",
    "df_all['word_in_description'] = df_all['product_info'].map(lambda x:str_common_word(x.split('\\t')[0],x.split('\\t')[2]))\n",
    "\n",
    "df_all = df_all.drop(['search_term','product_title','product_description','product_info'],axis=1)\n",
    "\n",
    "df_train = df_all.iloc[:num_train]\n",
    "df_test = df_all.iloc[num_train:]\n",
    "id_test = df_test['id']\n",
    "\n",
    "y_train = df_train['relevance'].values\n",
    "X_train = df_train.drop(['id','relevance'],axis=1).values\n",
    "X_test = df_test.drop(['id','relevance'],axis=1).values\n",
    "\n",
    "print(df_train.head())\n",
    "print(df_test.head())\n",
    "\n",
    "# rf = RandomForestRegressor(n_estimators=15, max_depth=6, random_state=0)\n",
    "# clf = BaggingRegressor(rf, n_estimators=45, max_samples=0.1, random_state=25)\n",
    "# clf.fit(X_train, y_train)\n",
    "# y_pred = clf.predict(X_test)\n",
    "\n",
    "# pd.DataFrame({\"id\": id_test, \"relevance\": y_pred}).to_csv('submission.csv',index=False)"
   ]
  },
  {
   "cell_type": "markdown",
   "id": "bf31237e",
   "metadata": {},
   "source": [
    "# Week 11"
   ]
  },
  {
   "cell_type": "code",
   "execution_count": 13,
   "id": "63f8f00b",
   "metadata": {},
   "outputs": [],
   "source": [
    "import numpy as np\n",
    "import pandas as pd\n",
    "from sklearn.ensemble import RandomForestRegressor, BaggingRegressor\n",
    "from sklearn.metrics import root_mean_squared_error\n",
    "from sklearn.model_selection import train_test_split\n",
    "from nltk.stem.snowball import SnowballStemmer"
   ]
  },
  {
   "cell_type": "code",
   "execution_count": null,
   "id": "cc4405b8",
   "metadata": {},
   "outputs": [
    {
     "name": "stdout",
     "output_type": "stream",
     "text": [
      "RMSE:  0.4817214529959809\n"
     ]
    }
   ],
   "source": [
    "# Adjusted baseline model\n",
    "stemmer = SnowballStemmer('english')\n",
    "\n",
    "# Read in the data\n",
    "df_train = pd.read_csv('DATA/train.csv', encoding=\"ISO-8859-1\")\n",
    "df_test = pd.read_csv('DATA/test.csv', encoding=\"ISO-8859-1\")\n",
    "# df_attr = pd.read_csv('DATA/attributes.csv')\n",
    "df_pro_desc = pd.read_csv('DATA/product_descriptions.csv')\n",
    "\n",
    "num_train = df_train.shape[0]\n",
    "\n",
    "# Function to stem words and find common words\n",
    "def str_stemmer(s):\n",
    "\treturn \" \".join([stemmer.stem(word) for word in s.lower().split()])\n",
    "\n",
    "def str_common_word(str1, str2):\n",
    "\treturn sum(int(str2.find(word)>=0) for word in str1.split())\n",
    "\n",
    "# Concatenate train and test data\n",
    "df_all = pd.concat((df_train, df_test), axis=0, ignore_index=True)\n",
    "\n",
    "df_all = pd.merge(df_all, df_pro_desc, how='left', on='product_uid')\n",
    "\n",
    "df_all['search_term'] = df_all['search_term'].map(lambda x:str_stemmer(x))\n",
    "df_all['product_title'] = df_all['product_title'].map(lambda x:str_stemmer(x))\n",
    "df_all['product_description'] = df_all['product_description'].map(lambda x:str_stemmer(x))\n",
    "\n",
    "df_all['len_of_query'] = df_all['search_term'].map(lambda x:len(x.split())).astype(np.int64)\n",
    "\n",
    "df_all['product_info'] = df_all['search_term']+\"\\t\"+df_all['product_title']+\"\\t\"+df_all['product_description']\n",
    "\n",
    "df_all['word_in_title'] = df_all['product_info'].map(lambda x:str_common_word(x.split('\\t')[0],x.split('\\t')[1]))\n",
    "df_all['word_in_description'] = df_all['product_info'].map(lambda x:str_common_word(x.split('\\t')[0],x.split('\\t')[2]))\n",
    "\n",
    "df_all = df_all.drop(['search_term','product_title','product_description','product_info'],axis=1)\n",
    "\n",
    "df_train = df_all.iloc[:num_train]\n",
    "df_test = df_all.iloc[num_train:]\n",
    "id_test = df_test['id']\n",
    "\n",
    "# Split the training data into training and test sets\n",
    "X_train, X_test, y_train, y_test = train_test_split(df_train.drop(['id','relevance'],axis=1).values, df_train['relevance'].values, test_size=0.2, random_state=42)\n",
    "\n",
    "rf = RandomForestRegressor(n_estimators=15, max_depth=6, random_state=0)\n",
    "clf = BaggingRegressor(rf, n_estimators=45, max_samples=0.1, random_state=25)\n",
    "clf.fit(X_train, y_train)\n",
    "y_pred = clf.predict(X_test)\n",
    "\n",
    "# Print the RMSE\n",
    "print(\"RMSE: \", root_mean_squared_error(y_test, y_pred))\n",
    "\n",
    "# pd.DataFrame({\"id\": id_test, \"relevance\": y_pred}).to_csv('submission.csv',index=False)"
   ]
  },
  {
   "cell_type": "code",
   "execution_count": null,
   "id": "840e04f4",
   "metadata": {},
   "outputs": [
    {
     "name": "stdout",
     "output_type": "stream",
     "text": [
      "RMSE:  0.512613133984399\n"
     ]
    }
   ],
   "source": [
    "# Adjusted baseline model (without stemming)\n",
    "stemmer = SnowballStemmer('english')\n",
    "\n",
    "# Read in the data\n",
    "df_train = pd.read_csv('DATA/train.csv', encoding=\"ISO-8859-1\")\n",
    "df_test = pd.read_csv('DATA/test.csv', encoding=\"ISO-8859-1\")\n",
    "# df_attr = pd.read_csv('DATA/attributes.csv')\n",
    "df_pro_desc = pd.read_csv('DATA/product_descriptions.csv')\n",
    "\n",
    "num_train = df_train.shape[0]\n",
    "\n",
    "# Function to stem words and find common words\n",
    "def str_stemmer(s):\n",
    "\treturn \" \".join([stemmer.stem(word) for word in s.lower().split()])\n",
    "\n",
    "def str_common_word(str1, str2):\n",
    "\treturn sum(int(str2.find(word)>=0) for word in str1.split())\n",
    "\n",
    "# Concatenate train and test data\n",
    "df_all = pd.concat((df_train, df_test), axis=0, ignore_index=True)\n",
    "\n",
    "df_all = pd.merge(df_all, df_pro_desc, how='left', on='product_uid')\n",
    "\n",
    "df_all['search_term'] = df_all['search_term'].astype(str)\n",
    "df_all['product_title'] = df_all['product_title'].astype(str)\n",
    "df_all['product_description'] = df_all['product_description'].astype(str)\n",
    "\n",
    "df_all['len_of_query'] = df_all['search_term'].map(lambda x:len(x.split())).astype(np.int64)\n",
    "\n",
    "df_all['product_info'] = df_all['search_term']+\"\\t\"+df_all['product_title']+\"\\t\"+df_all['product_description']\n",
    "\n",
    "df_all['word_in_title'] = df_all['product_info'].map(lambda x:str_common_word(x.split('\\t')[0],x.split('\\t')[1]))\n",
    "df_all['word_in_description'] = df_all['product_info'].map(lambda x:str_common_word(x.split('\\t')[0],x.split('\\t')[2]))\n",
    "\n",
    "df_all = df_all.drop(['search_term','product_title','product_description','product_info'],axis=1)\n",
    "\n",
    "df_train = df_all.iloc[:num_train]\n",
    "df_test = df_all.iloc[num_train:]\n",
    "id_test = df_test['id']\n",
    "\n",
    "# Split the training data into training and test sets\n",
    "X_train, X_test, y_train, y_test = train_test_split(df_train.drop(['id','relevance'],axis=1).values, df_train['relevance'].values, test_size=0.2, random_state=42)\n",
    "\n",
    "rf = RandomForestRegressor(n_estimators=15, max_depth=6, random_state=0)\n",
    "clf = BaggingRegressor(rf, n_estimators=45, max_samples=0.1, random_state=25)\n",
    "clf.fit(X_train, y_train)\n",
    "y_pred = clf.predict(X_test)\n",
    "\n",
    "# Print the RMSE\n",
    "print(\"RMSE: \", root_mean_squared_error(y_test, y_pred))"
   ]
  },
  {
   "cell_type": "markdown",
   "id": "902ddf37",
   "metadata": {},
   "source": [
    "## 11.2 Improving the matching"
   ]
  },
  {
   "cell_type": "code",
   "execution_count": 26,
   "id": "15870528",
   "metadata": {},
   "outputs": [
    {
     "name": "stderr",
     "output_type": "stream",
     "text": [
      "c:\\Users\\sanna\\anaconda3\\envs\\DS3\\Lib\\site-packages\\sklearn\\utils\\validation.py:921: UserWarning: pandas.DataFrame with sparse columns found.It will be converted to a dense numpy array.\n",
      "  warnings.warn(\n",
      "c:\\Users\\sanna\\anaconda3\\envs\\DS3\\Lib\\site-packages\\sklearn\\utils\\validation.py:921: UserWarning: pandas.DataFrame with sparse columns found.It will be converted to a dense numpy array.\n",
      "  warnings.warn(\n"
     ]
    },
    {
     "name": "stdout",
     "output_type": "stream",
     "text": [
      "RMSE after TF-IDF:  0.5225794736088272\n"
     ]
    }
   ],
   "source": [
    "from sklearn.feature_extraction.text import TfidfVectorizer\n",
    "\n",
    "# Read in the data\n",
    "df_train = pd.read_csv('DATA/train.csv', encoding=\"ISO-8859-1\")\n",
    "df_pro_desc = pd.read_csv('DATA/product_descriptions.csv')\n",
    "\n",
    "df_all = pd.merge(df_train, df_pro_desc, how='left', on='product_uid')\n",
    "\n",
    "# Select relevant text features for TF-IDF\n",
    "text_features = df_all[['search_term', 'product_title', 'product_description']].fillna(\"\")\n",
    "\n",
    "# Apply TF-IDF to capture text importance\n",
    "vectorizer = TfidfVectorizer(max_features=2500, stop_words='english', lowercase=True, min_df=4)\n",
    "tfidf_matrix = vectorizer.fit_transform(text_features['search_term'] + \" \" + text_features['product_title'] + \" \" + text_features['product_description'])\n",
    "\n",
    "# Convert to DataFrame\n",
    "tfidf_df = pd.DataFrame.sparse.from_spmatrix(tfidf_matrix, columns=vectorizer.get_feature_names_out())\n",
    "\n",
    "# Concatenate TF-IDF features with original numerical features\n",
    "df_all_tfidf = pd.concat([df_all.drop(['search_term', 'product_title', 'product_description'], axis=1), tfidf_df], axis=1)\n",
    "\n",
    "# Split the training data into training and test sets with TF-IDF features\n",
    "X_train, X_test, y_train, y_test = train_test_split(df_all_tfidf.drop(['id', 'relevance'], axis=1), df_all_tfidf['relevance'], test_size=0.2, random_state=42)\n",
    "\n",
    "rf = RandomForestRegressor(n_estimators=15, max_depth=6, random_state=0)\n",
    "clf = BaggingRegressor(rf, n_estimators=45, max_samples=0.1, random_state=25)\n",
    "clf.fit(X_train, y_train)\n",
    "y_pred = clf.predict(X_test)\n",
    "\n",
    "# Print the RMSE with TF-IDF\n",
    "print(\"RMSE after TF-IDF: \", root_mean_squared_error(y_test, y_pred))\n"
   ]
  },
  {
   "cell_type": "code",
   "execution_count": null,
   "id": "53f3b1bb",
   "metadata": {},
   "outputs": [
    {
     "name": "stdout",
     "output_type": "stream",
     "text": [
      "RMSE after Jaccard Similarity:  0.5049099506146119\n"
     ]
    }
   ],
   "source": [
    "from sklearn.metrics import jaccard_score\n",
    "\n",
    "# Create a function to calculate Jaccard Similarity\n",
    "def jaccard_similarity(str1, str2):\n",
    "    set1 = set(str1.lower().split())\n",
    "    set2 = set(str2.lower().split())\n",
    "    return len(set1 & set2) / len(set1 | set2) if (set1 | set2) else 0\n",
    "\n",
    "# Read in the data\n",
    "df_train = pd.read_csv('DATA/train.csv', encoding=\"ISO-8859-1\")\n",
    "df_pro_desc = pd.read_csv('DATA/product_descriptions.csv')\n",
    "df_all = pd.merge(df_train, df_pro_desc, how='left', on='product_uid')\n",
    "\n",
    "# Calculate Jaccard Similarity features\n",
    "df_all['jaccard_title'] = df_all.apply(lambda x: jaccard_similarity(str(x['search_term']), str(x['product_title'])), axis=1)\n",
    "df_all['jaccard_description'] = df_all.apply(lambda x: jaccard_similarity(str(x['search_term']), str(x['product_description'])), axis=1)\n",
    "\n",
    "# Split the dataset, including Jaccard features\n",
    "X_train, X_test, y_train, y_test = train_test_split(\n",
    "    df_all.drop(['id', 'relevance', 'search_term', 'product_title', 'product_description'], axis=1), \n",
    "    df_all['relevance'], \n",
    "    test_size=0.2, \n",
    "    random_state=42\n",
    ")\n",
    "\n",
    "# Retrain the model with Jaccard features\n",
    "rf = RandomForestRegressor(n_estimators=15, max_depth=6, random_state=0)\n",
    "clf = BaggingRegressor(rf, n_estimators=45, max_samples=0.1, random_state=25)\n",
    "clf.fit(X_train, y_train)\n",
    "y_pred = clf.predict(X_test)\n",
    "\n",
    "# Print the RMSE with Jaccard features\n",
    "print(\"RMSE after Jaccard Similarity: \", root_mean_squared_error(y_test, y_pred))"
   ]
  },
  {
   "cell_type": "code",
   "execution_count": null,
   "id": "71ebe3f8",
   "metadata": {},
   "outputs": [
    {
     "name": "stdout",
     "output_type": "stream",
     "text": [
      "RMSE after word order importance:  0.515381969586403\n"
     ]
    }
   ],
   "source": [
    "# Read in the data\n",
    "df_train = pd.read_csv('DATA/train.csv', encoding=\"ISO-8859-1\")\n",
    "df_pro_desc = pd.read_csv('DATA/product_descriptions.csv')\n",
    "df_all = pd.merge(df_train, df_pro_desc, how='left', on='product_uid')\n",
    "\n",
    "# Function for Word Order Importance\n",
    "def word_order_importance(search_term, product_title):\n",
    "    search_words = search_term.lower().split()\n",
    "    title_words = product_title.lower().split()\n",
    "    \n",
    "    match_count = 0\n",
    "    for i in range(len(search_words) - 1):  # Loop door woordparen\n",
    "        search_pair = \" \".join(search_words[i:i+2])  # Maak een tweewoord-combinatie\n",
    "        title_text = \" \".join(title_words)  # Zet de producttitel als string\n",
    "        if search_pair in title_text:\n",
    "            match_count += 1  # Verhoog de score als de woordpaar exact matcht\n",
    "\n",
    "    return match_count / max(1, len(search_words) - 1)  # Normaliseren op lengte zoekterm\n",
    "\n",
    "df_all['word_order_score'] = df_all.apply(lambda x: word_order_importance(str(x['search_term']), str(x['product_title'])), axis=1)\n",
    "\n",
    "# Split the dataset, including Word Order Score\n",
    "X_train, X_test, y_train, y_test = train_test_split(\n",
    "    df_all.drop(['id', 'relevance', 'search_term', 'product_title', 'product_description'], axis=1), \n",
    "    df_all['relevance'], \n",
    "    test_size=0.2, \n",
    "    random_state=42\n",
    ")\n",
    "\n",
    "# Retrain the model with Word Order Score\n",
    "rf = RandomForestRegressor(n_estimators=15, max_depth=6, random_state=0)\n",
    "clf = BaggingRegressor(rf, n_estimators=45, max_samples=0.1, random_state=25)\n",
    "clf.fit(X_train, y_train)\n",
    "y_pred = clf.predict(X_test)\n",
    "\n",
    "# Print the RMSE with word order importance\n",
    "print(\"RMSE after word order importance: \", root_mean_squared_error(y_test, y_pred))"
   ]
  }
 ],
 "metadata": {
  "kernelspec": {
   "display_name": "DS3",
   "language": "python",
   "name": "python3"
  },
  "language_info": {
   "codemirror_mode": {
    "name": "ipython",
    "version": 3
   },
   "file_extension": ".py",
   "mimetype": "text/x-python",
   "name": "python",
   "nbconvert_exporter": "python",
   "pygments_lexer": "ipython3",
   "version": "3.13.2"
  }
 },
 "nbformat": 4,
 "nbformat_minor": 5
}
